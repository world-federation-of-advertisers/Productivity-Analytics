{
 "cells": [
  {
   "cell_type": "markdown",
   "id": "85951014-eead-4ebf-b3ff-7c8cd94f552e",
   "metadata": {},
   "source": [
    "## Setting up the environment"
   ]
  },
  {
   "cell_type": "code",
   "execution_count": null,
   "id": "f7062272-7770-4365-b899-05da68f23f9c",
   "metadata": {},
   "outputs": [],
   "source": [
    "import sys\n",
    "import os\n",
    "\n",
    "# Add the parent directory to the system path\n",
    "parent_path = os.path.abspath(os.path.join(os.getcwd(), '..'))\n",
    "sys.path.insert(0, parent_path)\n",
    "\n",
    "import productivity_analytics\n",
    "\n",
    "# Load the environment variables\n",
    "from dotenv import load_dotenv # pip install python-dotenv\n",
    "\n",
    "load_dotenv(parent_path + '/.env.dev')\n",
    "repo_owner = os.getenv('repo_owner')\n",
    "repo_name = os.getenv('repo_name')\n",
    "token = os.getenv('token')"
   ]
  },
  {
   "cell_type": "markdown",
   "id": "32b1d4df-4972-4cb8-856e-a5d3fc4dc9d1",
   "metadata": {},
   "source": [
    "## Background"
   ]
  },
  {
   "cell_type": "markdown",
   "id": "2058570f-c48a-4e0f-a125-bce71cb6ca20",
   "metadata": {},
   "source": [
    "There are two ways to collect data, the first being `get` and second being `update`. As per their names, `get` starts over from scratch and gets all data, and `update` updates that data. The process by which the data is initially built is as follows: \n",
    "\n",
    "1) `get_pr_numbers` fetches all PR numbers based on `repo_owner` and `repo_name`. In the below examples `world-federation-of-advertisers/cross-media-measurement`.\n",
    "2) Using the output of `get_pr_numbers` as the input for `build_pr_dataframe` yields a dataframe with data for each PR number. It's also possible to get raw JSON for individual PR number using `get_or_data`.\n",
    "3) Similar to the above step, using the output of `get_pr_numbers` as the input for `build_review_dataframe` yields a dataframe with data for all the review comments for the given PR numbers.\n",
    "\n",
    "The above steps take roughly 2 second per PR. So 2,000 PRs will take about an hour to process. As the data is already available in `../data`, there is no need to go through these steps again, but one can simply update the datasets, where the process is as follows: \n",
    "\n",
    "1) `get_pr_numbers` fetches all PR numbers based on `repo_owner` and `repo_name`.\n",
    "2) Using the output of `get_pr_numbers` as the input for `update_pr_dataframe` yields an updated dataframe.\n",
    "3) Similar to the above step, using the output of `get_pr_numbers` as the input for `update_review_dataframe` yields an updated dataframe"
   ]
  },
  {
   "cell_type": "markdown",
   "id": "2b27d601-8ed7-40a2-a87d-0d0d349ddc30",
   "metadata": {},
   "source": [
    "# 1. Build data from scratch i.e. `get`"
   ]
  },
  {
   "cell_type": "markdown",
   "id": "dfd9bbe2-23ee-48fb-a122-902232817a83",
   "metadata": {},
   "source": [
    "## 1.1. Get a list of PR numbers\n",
    "Fetches a list of all PR numbers for the repo. \n",
    "\n",
    "**NOTE:** This takes anywhere from 10 to 20 seconds."
   ]
  },
  {
   "cell_type": "code",
   "execution_count": null,
   "id": "54a694fc-b44d-4362-9320-3288de937c88",
   "metadata": {},
   "outputs": [],
   "source": [
    "from productivity_analytics import get_pr_numbers\n",
    "\n",
    "pr_numbers = get_pr_numbers(repo_owner, repo_name, token)"
   ]
  },
  {
   "cell_type": "markdown",
   "id": "1437862b-57c9-4710-8711-ff452efc4e38",
   "metadata": {},
   "source": [
    "## 1.2. Build PR data table\n",
    "Builds a PR dataframe based on all the PR numbers"
   ]
  },
  {
   "cell_type": "code",
   "execution_count": null,
   "id": "418ce21f-9e08-423c-aecc-89eb65c12b12",
   "metadata": {},
   "outputs": [],
   "source": [
    "from productivity_analytics import build_pr_dataframe\n",
    "\n",
    "pr_df = build_pr_dataframe(pr_numbers[0:10],\n",
    "                           repo_owner,\n",
    "                           repo_name,\n",
    "                           token)"
   ]
  },
  {
   "cell_type": "markdown",
   "id": "1c61c0ed-4326-462a-a492-5daf25a2c5c5",
   "metadata": {},
   "source": [
    "## 1.2. Get PR data for a PR number\n",
    "Fetches the raw JSON data for a single PR number"
   ]
  },
  {
   "cell_type": "code",
   "execution_count": null,
   "id": "f4280570-3d60-4330-9e6e-136c752cab78",
   "metadata": {
    "scrolled": true
   },
   "outputs": [],
   "source": [
    "from productivity_analytics import get_pr_data\n",
    "\n",
    "pr_data = get_pr_data(pr_numbers[0],\n",
    "                      repo_owner,\n",
    "                      repo_name,\n",
    "                      token)"
   ]
  },
  {
   "cell_type": "markdown",
   "id": "dbe75923-892d-4432-8334-f02aff39ffd4",
   "metadata": {},
   "source": [
    "## 1.3. Build Review data table\n",
    "Builds a review dataframe based on all the PR numbers"
   ]
  },
  {
   "cell_type": "code",
   "execution_count": null,
   "id": "ad6394bf-768e-43a5-8b52-c3f45d2aa34c",
   "metadata": {},
   "outputs": [],
   "source": [
    "from productivity_analytics import build_review_dataframe\n",
    "\n",
    "review_df = build_review_dataframe(pr_numbers[0:10],\n",
    "                                   repo_owner,\n",
    "                                   repo_name,\n",
    "                                   token)"
   ]
  },
  {
   "cell_type": "markdown",
   "id": "ef1c7244-ac32-46ba-8ee9-d1530528bbe7",
   "metadata": {},
   "source": [
    "## 1.3. Get review data for a PR number\n",
    "Fetches the raw JSON data for a single PR number"
   ]
  },
  {
   "cell_type": "code",
   "execution_count": null,
   "id": "e7ab076f-244b-48a8-bdc7-bd1ee9db06fe",
   "metadata": {},
   "outputs": [],
   "source": [
    "from productivity_analytics import get_review_data\n",
    "\n",
    "review_data = get_review_data(pr_numbers[20],\n",
    "                              repo_owner,\n",
    "                              repo_name,\n",
    "                              token)"
   ]
  },
  {
   "cell_type": "markdown",
   "id": "fa5abec5-0381-45a4-b002-36ac03b9c451",
   "metadata": {},
   "source": [
    "# 2. Update already built data i.e. `update`"
   ]
  },
  {
   "cell_type": "markdown",
   "id": "fc4b0fa9-8c50-49d3-9f63-83695946a4cb",
   "metadata": {},
   "source": [
    "## 2.1. Get a list of PR numbers\n",
    "Fetches a list of all PR numbers for the repo.\n",
    "\n",
    "**NOTE:** This is the same function as above, provided here for completeness."
   ]
  },
  {
   "cell_type": "code",
   "execution_count": null,
   "id": "810c6c99-5a15-40c2-97d8-f4b6f68e1fe5",
   "metadata": {},
   "outputs": [],
   "source": [
    "from productivity_analytics import get_pr_numbers\n",
    "\n",
    "pr_numbers = get_pr_numbers(repo_owner, repo_name, token)"
   ]
  },
  {
   "cell_type": "markdown",
   "id": "f6dbe4c1-b97d-4553-ab69-db21288824db",
   "metadata": {},
   "source": [
    "## 2.2. Update PR data table\n",
    "Builds a PR dataframe based on existing and new PR numbers"
   ]
  },
  {
   "cell_type": "code",
   "execution_count": null,
   "id": "2d0dc484-ba89-4d92-bd45-1d244879e51e",
   "metadata": {},
   "outputs": [],
   "source": [
    "from productivity_analytics import update_pr_data\n",
    "\n",
    "pr_df = update_pr_data(repo_owner, repo_name, token, save_to_file=False)"
   ]
  },
  {
   "cell_type": "markdown",
   "id": "6a4e2283-e20c-444c-bb52-15f529f8c78d",
   "metadata": {},
   "source": [
    "## 2.3. Update review data table\n",
    "Builds a review dataframe based on existing and new PR numbers"
   ]
  },
  {
   "cell_type": "code",
   "execution_count": null,
   "id": "bc6a0089-b47a-40ac-b30c-9f59e78afad8",
   "metadata": {
    "scrolled": true
   },
   "outputs": [],
   "source": [
    "from productivity_analytics import update_review_data\n",
    "\n",
    "update_review_data(repo_owner, repo_name, token, save_to_file=False)"
   ]
  }
 ],
 "metadata": {
  "kernelspec": {
   "display_name": "Python 3 (ipykernel)",
   "language": "python",
   "name": "python3"
  },
  "language_info": {
   "codemirror_mode": {
    "name": "ipython",
    "version": 3
   },
   "file_extension": ".py",
   "mimetype": "text/x-python",
   "name": "python",
   "nbconvert_exporter": "python",
   "pygments_lexer": "ipython3",
   "version": "3.9.0"
  }
 },
 "nbformat": 4,
 "nbformat_minor": 5
}
